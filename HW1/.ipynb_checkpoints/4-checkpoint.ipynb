{
 "cells": [
  {
   "cell_type": "code",
   "execution_count": 34,
   "metadata": {
    "collapsed": false
   },
   "outputs": [],
   "source": [
    "import numpy as np\n",
    "from scipy.linalg import eig\n",
    "from scipy.linalg import svd\n",
    "\n",
    "def compute_svd(a):\n",
    "    U, s, Vh = svd(a)\n",
    "    print(a)\n",
    "    print(U)\n",
    "    print(s)\n",
    "    print(Vh)\n",
    "\n",
    "A = np.array([[2, -4], [-1, -1]])\n",
    "B = np.array([[3, 1], [1, 3]])\n",
    "C = np.dot(A, B)\n",
    "D = np.dot(B, A)"
   ]
  },
  {
   "cell_type": "code",
   "execution_count": 35,
   "metadata": {
    "collapsed": false
   },
   "outputs": [
    {
     "name": "stdout",
     "output_type": "stream",
     "text": [
      "[[  2 -10]\n",
      " [ -4  -4]]\n",
      "[ 6.+0.j -8.+0.j]\n",
      "[[ 0.92847669  0.70710678]\n",
      " [-0.37139068  0.70710678]]\n",
      "[[ 0.70710678  0.37139068]\n",
      " [-0.70710678  0.92847669]]\n"
     ]
    }
   ],
   "source": [
    "w, vl, vr = eig(C,  left=True)\n",
    "print(C)\n",
    "print(w)\n",
    "print(vr)\n",
    "print(vl)"
   ]
  },
  {
   "cell_type": "code",
   "execution_count": 36,
   "metadata": {
    "collapsed": false
   },
   "outputs": [
    {
     "name": "stdout",
     "output_type": "stream",
     "text": [
      "[[  5 -13]\n",
      " [ -1  -7]]\n",
      "[ 6.+0.j -8.+0.j]\n",
      "[[ 0.99705449  0.70710678]\n",
      " [-0.0766965   0.70710678]]\n",
      "[[ 0.70710678  0.0766965 ]\n",
      " [-0.70710678  0.99705449]]\n"
     ]
    }
   ],
   "source": [
    "w, vl, vr = eig(D,  left=True)\n",
    "print(D)\n",
    "print(w)\n",
    "print(vr)\n",
    "print(vl)"
   ]
  },
  {
   "cell_type": "code",
   "execution_count": null,
   "metadata": {
    "collapsed": true
   },
   "outputs": [],
   "source": []
  }
 ],
 "metadata": {
  "anaconda-cloud": {},
  "kernelspec": {
   "display_name": "Python [default]",
   "language": "python",
   "name": "python3"
  },
  "language_info": {
   "codemirror_mode": {
    "name": "ipython",
    "version": 3
   },
   "file_extension": ".py",
   "mimetype": "text/x-python",
   "name": "python",
   "nbconvert_exporter": "python",
   "pygments_lexer": "ipython3",
   "version": "3.5.2"
  }
 },
 "nbformat": 4,
 "nbformat_minor": 2
}
