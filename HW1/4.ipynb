{
 "cells": [
  {
   "cell_type": "code",
   "execution_count": 1,
   "metadata": {
    "collapsed": false
   },
   "outputs": [],
   "source": [
    "import numpy as np\n",
    "from scipy.linalg import eig\n",
    "from scipy.linalg import svd\n",
    "\n",
    "def compute_svd(a):\n",
    "    U, s, Vh = svd(a, full_matrices=False)\n",
    "    print(a)\n",
    "    print(U)\n",
    "    print(s)\n",
    "    print(Vh)\n",
    "\n",
    "A = np.array([[2, -4], [-1, -1]])\n",
    "B = np.array([[3, 1], [1, 3]])\n",
    "C = np.dot(A, B)\n",
    "D = np.dot(B, A)\n",
    "c = np.array([[3,1],[1, 3],[2,-4],[-1,-1]])"
   ]
  },
  {
   "cell_type": "code",
   "execution_count": 2,
   "metadata": {
    "collapsed": false
   },
   "outputs": [
    {
     "name": "stdout",
     "output_type": "stream",
     "text": [
      "[[  2 -10]\n",
      " [ -4  -4]]\n",
      "[ 6.+0.j -8.+0.j]\n",
      "[[ 0.92847669  0.70710678]\n",
      " [-0.37139068  0.70710678]]\n",
      "[[ 0.70710678  0.37139068]\n",
      " [-0.70710678  0.92847669]]\n"
     ]
    }
   ],
   "source": [
    "w, vl, vr = eig(C,  left=True)\n",
    "print(C)\n",
    "print(w)\n",
    "print(vr)\n",
    "print(vl)"
   ]
  },
  {
   "cell_type": "code",
   "execution_count": 3,
   "metadata": {
    "collapsed": false
   },
   "outputs": [
    {
     "name": "stdout",
     "output_type": "stream",
     "text": [
      "[[  5 -13]\n",
      " [ -1  -7]]\n",
      "[ 6.+0.j -8.+0.j]\n",
      "[[ 0.99705449  0.70710678]\n",
      " [-0.0766965   0.70710678]]\n",
      "[[ 0.70710678  0.0766965 ]\n",
      " [-0.70710678  0.99705449]]\n"
     ]
    }
   ],
   "source": [
    "w, vl, vr = eig(D,  left=True)\n",
    "print(D)\n",
    "print(w)\n",
    "print(vr)\n",
    "print(vl)"
   ]
  },
  {
   "cell_type": "code",
   "execution_count": 4,
   "metadata": {
    "collapsed": false
   },
   "outputs": [
    {
     "name": "stdout",
     "output_type": "stream",
     "text": [
      "[[ 2 -4]\n",
      " [-1 -1]]\n",
      "[[ 0.99402894  0.10911677]\n",
      " [ 0.10911677 -0.99402894]]\n",
      "[ 4.49661478  1.33433712]\n",
      "[[ 0.41785681 -0.9085129 ]\n",
      " [ 0.9085129   0.41785681]]\n"
     ]
    }
   ],
   "source": [
    "compute_svd(A)"
   ]
  },
  {
   "cell_type": "code",
   "execution_count": 5,
   "metadata": {
    "collapsed": false
   },
   "outputs": [
    {
     "name": "stdout",
     "output_type": "stream",
     "text": [
      "[[ 8 -4]\n",
      " [-1  5]]\n",
      "[[-0.92036286  0.39106549]\n",
      " [ 0.39106549  0.92036286]]\n",
      "[ 9.58630798  3.75535608]\n",
      "[[-0.80885867  0.5880031 ]\n",
      " [ 0.5880031   0.80885867]]\n"
     ]
    }
   ],
   "source": [
    "compute_svd(np.dot(A,A))"
   ]
  },
  {
   "cell_type": "code",
   "execution_count": 6,
   "metadata": {
    "collapsed": false
   },
   "outputs": [
    {
     "name": "stdout",
     "output_type": "stream",
     "text": [
      "[[  2 -10]\n",
      " [ -4  -4]]\n",
      "[[ 0.9347217   0.35538056]\n",
      " [ 0.35538056 -0.9347217 ]]\n",
      "[ 10.77805077   4.45349545]\n",
      "[[ 0.04155864 -0.99913607]\n",
      " [ 0.99913607  0.04155864]]\n"
     ]
    }
   ],
   "source": [
    "compute_svd(np.dot(A,B))"
   ]
  },
  {
   "cell_type": "code",
   "execution_count": 7,
   "metadata": {
    "collapsed": false
   },
   "outputs": [
    {
     "name": "stdout",
     "output_type": "stream",
     "text": [
      "[[  5 -13]\n",
      " [ -1  -7]]\n",
      "[[ 0.90607303  0.42312134]\n",
      " [ 0.42312134 -0.90607303]]\n",
      "[ 15.30230699   3.13678193]\n",
      "[[ 0.26840683 -0.96330565]\n",
      " [ 0.96330565  0.26840683]]\n"
     ]
    }
   ],
   "source": [
    "compute_svd(np.dot(B,A))"
   ]
  },
  {
   "cell_type": "code",
   "execution_count": 8,
   "metadata": {
    "collapsed": false
   },
   "outputs": [
    {
     "name": "stdout",
     "output_type": "stream",
     "text": [
      "[[ 3  1]\n",
      " [ 1  3]\n",
      " [ 2 -4]\n",
      " [-1 -1]]\n",
      "[[-0.14395373  0.79545124]\n",
      " [-0.5586541   0.32209809]\n",
      " [ 0.79770252  0.4306424 ]\n",
      " [ 0.17565196 -0.27938733]]\n",
      "[ 5.20411016  3.86228397]\n",
      "[[ 0.08248053 -0.99659268]\n",
      " [ 0.99659268  0.08248053]]\n"
     ]
    }
   ],
   "source": [
    "compute_svd(c)"
   ]
  },
  {
   "cell_type": "code",
   "execution_count": null,
   "metadata": {
    "collapsed": true
   },
   "outputs": [],
   "source": []
  }
 ],
 "metadata": {
  "anaconda-cloud": {},
  "kernelspec": {
   "display_name": "Python [default]",
   "language": "python",
   "name": "python3"
  },
  "language_info": {
   "codemirror_mode": {
    "name": "ipython",
    "version": 3
   },
   "file_extension": ".py",
   "mimetype": "text/x-python",
   "name": "python",
   "nbconvert_exporter": "python",
   "pygments_lexer": "ipython3",
   "version": "3.5.2"
  }
 },
 "nbformat": 4,
 "nbformat_minor": 2
}
