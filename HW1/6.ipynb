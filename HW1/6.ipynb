{
 "cells": [
  {
   "cell_type": "code",
   "execution_count": 1,
   "metadata": {
    "collapsed": false
   },
   "outputs": [],
   "source": [
    "##  6 System Identifcation by ordinary least squares regression, part(a)\n",
    "from scipy.io import loadmat\n",
    "import numpy as np\n",
    "from numpy.linalg import inv"
   ]
  },
  {
   "cell_type": "code",
   "execution_count": 2,
   "metadata": {
    "collapsed": false
   },
   "outputs": [
    {
     "name": "stdout",
     "output_type": "stream",
     "text": [
      "[[ 0.97755214]\n",
      " [-0.08775322]]\n"
     ]
    }
   ],
   "source": [
    "a = loadmat('hw01-data/system-identification/a.mat')\n",
    "x = np.transpose(a['x'])\n",
    "u = np.transpose(a['u'])\n",
    "\n",
    "X = np.hstack((x[:29, :], u[:29, :]))\n",
    "y =  x[1:30, :]\n",
    "\n",
    "XT = np.transpose(X)\n",
    "w = np.dot(inv(XT @ X) @ XT, y)\n",
    "\n",
    "print(w)"
   ]
  },
  {
   "cell_type": "code",
   "execution_count": 3,
   "metadata": {
    "collapsed": false
   },
   "outputs": [
    {
     "name": "stdout",
     "output_type": "stream",
     "text": [
      "[[ 0.15207406  0.93480864 -0.00110243]\n",
      " [ 0.03893567  0.30958727  0.87436511]\n",
      " [-0.52552959  0.0540906  -0.47026217]]\n",
      "\n",
      "\n",
      "[[ 0.04894161  0.20568264 -0.37090438]\n",
      " [-0.04524735 -0.92861546  0.12756569]\n",
      " [ 0.91096923 -0.47124981 -0.84222314]]\n"
     ]
    }
   ],
   "source": [
    "##  6 System Identifcation by ordinary least squares regression, part(b)\n",
    "\n",
    "b = loadmat('hw01-data/system-identification/b.mat')\n",
    "u = b['u']\n",
    "x = b['x']\n",
    "u = u.reshape(u.shape[0:2])\n",
    "x = x.reshape(x.shape[0:2])\n",
    "n = u.shape[0]\n",
    "\n",
    "Y = x[1:n, :].transpose()\n",
    "X = np.vstack((x[0:n-1, :].transpose(), u[0:n-1, :].transpose()))\n",
    "XT = X.transpose()\n",
    "W = Y @ XT @ inv(X @ XT)\n",
    "A = W[:, 0:3]\n",
    "B = W[:, 3:6]\n",
    "print(A)\n",
    "print('\\n')\n",
    "print(B)"
   ]
  },
  {
   "cell_type": "code",
   "execution_count": 4,
   "metadata": {
    "collapsed": false
   },
   "outputs": [
    {
     "name": "stdout",
     "output_type": "stream",
     "text": [
      "[[-0.01152121]\n",
      " [-0.31779341]\n",
      " [ 0.01128933]\n",
      " [ 0.27535824]\n",
      " [-0.88293502]]\n"
     ]
    }
   ],
   "source": [
    "##  6 System Identifcation by ordinary least squares regression, part(c)\n",
    "\n",
    "train = loadmat('hw01-data/system-identification/train.mat')\n",
    "x = train['x'].transpose()\n",
    "xd = train['xd'].transpose()\n",
    "xdd = train['xdd'].transpose()\n",
    "xp = train['xp'].transpose()\n",
    "xdp = train['xdp'].transpose()\n",
    "n = x.shape[0]\n",
    "\n",
    "X = np.hstack((x, xd, xp, xdp, np.ones((n, 1))))\n",
    "y = xdd\n",
    "XT = X.transpose()\n",
    "w = np.dot(inv(XT @ X) @ XT, y)\n",
    "print(w)"
   ]
  }
 ],
 "metadata": {
  "anaconda-cloud": {},
  "kernelspec": {
   "display_name": "Python [default]",
   "language": "python",
   "name": "python3"
  },
  "language_info": {
   "codemirror_mode": {
    "name": "ipython",
    "version": 3
   },
   "file_extension": ".py",
   "mimetype": "text/x-python",
   "name": "python",
   "nbconvert_exporter": "python",
   "pygments_lexer": "ipython3",
   "version": "3.5.2"
  }
 },
 "nbformat": 4,
 "nbformat_minor": 2
}
