{
 "cells": [
  {
   "cell_type": "code",
   "execution_count": 32,
   "metadata": {
    "collapsed": false
   },
   "outputs": [
    {
     "data": {
      "image/png": "[encoded data removed]",
      "text/plain": [
       "<matplotlib.figure.Figure at 0x117833fd0>"
      ]
     },
     "metadata": {},
     "output_type": "display_data"
    }
   ],
   "source": [
    "#!/usr/bin/env python3\n",
    "##HW2-5-(d)\n",
    "\n",
    "import matplotlib.pyplot as plt\n",
    "import numpy as np\n",
    "import scipy.io as spio\n",
    "\n",
    "\n",
    "# There is numpy.linalg.lstsq, whicn you should use outside of this classs\n",
    "def lstsq(A, b):\n",
    "    return np.linalg.solve(A.T @ A, A.T @ b)\n",
    "\n",
    "\n",
    "\n",
    "def get_X(x_train, D):\n",
    "    n = x_train.shape[0]\n",
    "    X = np.ones((n, 1))\n",
    "    for d in range(1, D+1):\n",
    "        X = np.hstack((X, x_train.reshape((n, 1))**d))\n",
    "    return X\n",
    "\n",
    "def main():\n",
    "    data = spio.loadmat('1D_poly.mat', squeeze_me=True)\n",
    "    x_train = np.array(data['x_train'])\n",
    "    y_train = np.array(data['y_train']).T\n",
    "    y_fresh = np.array(data['y_fresh']).T\n",
    "\n",
    "    n = 20  # max degree\n",
    "    err_train = np.zeros(n - 1)\n",
    "    err_fresh = np.zeros(n - 1)\n",
    "\n",
    "    for D in range(1, n):\n",
    "        X = get_X(x_train, D)\n",
    "        w = lstsq(X, y_train)\n",
    "        err_train[D-1] = np.linalg.norm(np.dot(X, w)-y_train)/n\n",
    "        err_fresh[D-1] = np.linalg.norm(np.dot(X, w)-y_fresh)/n\n",
    "\n",
    "    plt.figure()\n",
    "    plt.plot(range(1, n), err_train, label='train')\n",
    "    plt.plot(range(1, n), err_fresh, label='fresh')\n",
    "    plt.legend()\n",
    "    plt.xlabel('Degree of Polynomial')\n",
    "    plt.ylabel('Training Error')\n",
    "    plt.xticks(np.arange(1, n, 1.0))\n",
    "    #plt.ylim([0.25, 0.34])\n",
    "    plt.show()\n",
    "\n",
    "\n",
    "if __name__ == \"__main__\":\n",
    "    main()\n"
   ]
  },
  {
   "cell_type": "code",
   "execution_count": 38,
   "metadata": {
    "collapsed": false
   },
   "outputs": [
    {
     "data": {
      "text/plain": [
       "array([0, 1, 2, 3, 4, 5, 6, 7, 8, 9])"
      ]
     },
     "execution_count": 38,
     "metadata": {},
     "output_type": "execute_result"
    }
   ],
   "source": []
  },
  {
   "cell_type": "code",
   "execution_count": null,
   "metadata": {
    "collapsed": true
   },
   "outputs": [],
   "source": []
  }
 ],
 "metadata": {
  "anaconda-cloud": {},
  "kernelspec": {
   "display_name": "Python [default]",
   "language": "python",
   "name": "python3"
  },
  "language_info": {
   "codemirror_mode": {
    "name": "ipython",
    "version": 3
   },
   "file_extension": ".py",
   "mimetype": "text/x-python",
   "name": "python",
   "nbconvert_exporter": "python",
   "pygments_lexer": "ipython3",
   "version": "3.5.2"
  }
 },
 "nbformat": 4,
 "nbformat_minor": 2
}
